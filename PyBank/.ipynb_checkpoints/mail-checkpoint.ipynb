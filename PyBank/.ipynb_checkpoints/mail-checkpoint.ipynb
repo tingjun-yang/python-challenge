{
 "cells": [
  {
   "cell_type": "markdown",
   "id": "d7a29707-41dd-45fe-92d2-69c753ddea8d",
   "metadata": {},
   "source": [
    "## PyBank"
   ]
  },
  {
   "cell_type": "code",
   "execution_count": 2,
   "id": "192feada-49a5-4e6c-abaf-68b6639e430c",
   "metadata": {},
   "outputs": [],
   "source": [
    "from pathlib import Path\n",
    "import csv"
   ]
  },
  {
   "cell_type": "code",
   "execution_count": 9,
   "id": "849610d5-7cbb-4501-a160-acf16733e579",
   "metadata": {},
   "outputs": [
    {
     "name": "stdout",
     "output_type": "stream",
     "text": [
      "[('Jan-2010', 867884, 867884), ('Feb-2010', 984655, 116771), ('Mar-2010', 322013, -662642), ('Apr-2010', -69417, -391430), ('May-2010', 310503, 379920)]\n"
     ]
    }
   ],
   "source": [
    "# Read data from the budget_data.csv file\n",
    "\n",
    "csvpath = Path(\"./budget_data.csv\")\n",
    "\n",
    "records = []\n",
    "\n",
    "previous_month = 0\n",
    "\n",
    "with open(csvpath, 'r') as csvfile:\n",
    "    csvreader = csv.reader(csvfile, delimiter=',')\n",
    "    header = next(csvreader)\n",
    "    \n",
    "    for row in csvreader:\n",
    "        # create a tuple for each month: month, PnL, difference\n",
    "        record = (row[0], int(row[1]), int(row[1])-previous_month)\n",
    "        records.append(record)\n",
    "        previous_month = int(row[1])\n",
    "print(records[:5])"
   ]
  },
  {
   "cell_type": "code",
   "execution_count": 10,
   "id": "e1714441-7dbe-4482-ba42-4444ad1f518e",
   "metadata": {},
   "outputs": [
    {
     "name": "stdout",
     "output_type": "stream",
     "text": [
      "Financial Analysis\n",
      "----------------------------\n",
      "Total Months: 86\n",
      "Total: $38382578\n",
      "Average  Change: $7895.28\n",
      "Greatest Increase in Profits: Feb-2012 ($1926159)\n",
      "Greatest Decrease in Profits: Sep-2013 ($-2196167)\n"
     ]
    }
   ],
   "source": [
    "# Statistical analysis\n",
    "\n",
    "total_months = 0\n",
    "total_amount = 0\n",
    "total_change = 0\n",
    "greatest_increase = 0\n",
    "greatest_increase_month = ''\n",
    "greatest_decrease = 0\n",
    "greatest_decrease_month = ''\n",
    "\n",
    "for record in records:\n",
    "    total_months += 1\n",
    "    total_amount += record[1]\n",
    "    \n",
    "    # ignore the first month for increase/decrease\n",
    "    if total_months >0:\n",
    "        # record[2] is the increase/decrease of PnL with respect to the previous month\n",
    "        total_change += record[2]\n",
    "        if record[2]<0:\n",
    "            if record[2]<greatest_decrease:\n",
    "                greatest_decrease = record[2]\n",
    "                greatest_decrease_month = record[0]\n",
    "        elif record[2]>0:\n",
    "            if record[2]>greatest_increase:\n",
    "                greatest_increase = record[2]\n",
    "                greatest_increase_month = record[0]\n",
    "        \n",
    "average_change = round(total_change/(total_months-1),2)\n",
    "\n",
    "print(f\"Financial Analysis\")\n",
    "print(f\"----------------------------\")\n",
    "print(f\"Total Months: {total_months}\")\n",
    "print(f\"Total: ${total_amount}\")\n",
    "print(f\"Average  Change: ${average_change}\")\n",
    "print(f\"Greatest Increase in Profits: {greatest_increase_month} (${greatest_increase})\")\n",
    "print(f\"Greatest Decrease in Profits: {greatest_decrease_month} (${greatest_decrease})\")"
   ]
  },
  {
   "cell_type": "code",
   "execution_count": 11,
   "id": "d37d64b9-a2b4-4bf4-bf8e-ccc51aaa68fb",
   "metadata": {},
   "outputs": [],
   "source": [
    "# Output to a text file\n",
    "with open('output.txt', 'w') as f:\n",
    "    f.write(f\"Financial Analysis\\n\")\n",
    "    f.write(f\"----------------------------\\n\")\n",
    "    f.write(f\"Total Months: {total_months}\\n\")\n",
    "    f.write(f\"Total: ${total_amount}\\n\")\n",
    "    f.write(f\"Average  Change: ${average_change}\\n\")\n",
    "    f.write(f\"Greatest Increase in Profits: {greatest_increase_month} (${greatest_increase})\\n\")\n",
    "    f.write(f\"Greatest Decrease in Profits: {greatest_decrease_month} (${greatest_decrease})\\n\")"
   ]
  },
  {
   "cell_type": "code",
   "execution_count": null,
   "id": "8d9c34e6-57c0-4c6e-9b4e-c5427971e44a",
   "metadata": {},
   "outputs": [],
   "source": []
  }
 ],
 "metadata": {
  "kernelspec": {
   "display_name": "Python 3 (ipykernel)",
   "language": "python",
   "name": "python3"
  },
  "language_info": {
   "codemirror_mode": {
    "name": "ipython",
    "version": 3
   },
   "file_extension": ".py",
   "mimetype": "text/x-python",
   "name": "python",
   "nbconvert_exporter": "python",
   "pygments_lexer": "ipython3",
   "version": "3.7.13"
  }
 },
 "nbformat": 4,
 "nbformat_minor": 5
}
